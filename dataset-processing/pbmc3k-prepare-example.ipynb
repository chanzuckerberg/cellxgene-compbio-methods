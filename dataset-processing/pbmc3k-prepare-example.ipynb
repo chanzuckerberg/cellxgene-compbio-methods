{
 "cells": [
  {
   "cell_type": "markdown",
   "metadata": {},
   "source": [
    "# Mirroring a basic `cellxgene prepare` workflow\n",
    "### The following demonstrates how a typical run of `cellxgene prepare` corresponds to the underlying scanpy processing. For more details, see https://chanzuckerberg.github.io/cellxgene/data.html"
   ]
  },
  {
   "cell_type": "code",
   "execution_count": 1,
   "metadata": {},
   "outputs": [],
   "source": [
    "import scanpy as sc\n",
    "\n",
    "raw_data = sc.datasets.pbmc3k() ## Load the raw pbmc3k dataset distributed with scanpy, write to an h5ad file\n",
    "sc.write('./pbmc3k-raw.h5ad', raw_data)"
   ]
  },
  {
   "cell_type": "markdown",
   "metadata": {},
   "source": [
    "### Here, we intercept with the `cellxgene prepare` workflow  \n",
    "This command for `cellxgene prepare` runs all of the following steps under the hood:  \n",
    "`cellxgene prepare pbmc3k-raw.h5ad --run-qc --recipe seurat --layout tsne --layout umap --output pbmc3k-prepared.h5ad`"
   ]
  },
  {
   "cell_type": "code",
   "execution_count": 2,
   "metadata": {},
   "outputs": [],
   "source": [
    "## Step 1: Calculate QC metrics and store in the anndata object\n",
    "sc.pp.calculate_qc_metrics(raw_data, inplace=True) "
   ]
  },
  {
   "cell_type": "code",
   "execution_count": 3,
   "metadata": {},
   "outputs": [],
   "source": [
    "## Step 2: Normalize with a very vanilla recipe\n",
    "normalized_data = sc.pp.recipe_seurat(raw_data, copy=True)"
   ]
  },
  {
   "cell_type": "code",
   "execution_count": 4,
   "metadata": {},
   "outputs": [],
   "source": [
    "## Step 3: Do some basic preprocessing to run PCA and compute the neighbor graph  \n",
    "sc.pp.pca(normalized_data)\n",
    "sc.pp.neighbors(normalized_data)"
   ]
  },
  {
   "cell_type": "code",
   "execution_count": 5,
   "metadata": {},
   "outputs": [],
   "source": [
    "## Step 4: Infer clusters with the Louvain algorithm  \n",
    "sc.tl.louvain(normalized_data)"
   ]
  },
  {
   "cell_type": "code",
   "execution_count": 6,
   "metadata": {},
   "outputs": [],
   "source": [
    "## Step 5: Compute tsne and umap embeddings  \n",
    "sc.tl.umap(normalized_data)"
   ]
  },
  {
   "cell_type": "code",
   "execution_count": 7,
   "metadata": {},
   "outputs": [],
   "source": [
    "## Write to output file  \n",
    "sc.write('pbmc3k-prepared.h5ad', normalized_data)"
   ]
  },
  {
   "cell_type": "code",
   "execution_count": null,
   "metadata": {},
   "outputs": [],
   "source": []
  }
 ],
 "metadata": {
  "kernelspec": {
   "display_name": "Python 3",
   "language": "python",
   "name": "python3"
  },
  "language_info": {
   "codemirror_mode": {
    "name": "ipython",
    "version": 3
   },
   "file_extension": ".py",
   "mimetype": "text/x-python",
   "name": "python",
   "nbconvert_exporter": "python",
   "pygments_lexer": "ipython3",
   "version": "3.7.2"
  }
 },
 "nbformat": 4,
 "nbformat_minor": 2
}
