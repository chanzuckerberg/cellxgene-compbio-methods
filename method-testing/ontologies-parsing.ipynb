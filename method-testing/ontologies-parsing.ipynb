{
 "cells": [
  {
   "cell_type": "code",
   "execution_count": 1,
   "metadata": {},
   "outputs": [],
   "source": [
    "# !pip install obonet networkx\n",
    "import obonet as ob\n",
    "import networkx as nx"
   ]
  },
  {
   "cell_type": "code",
   "execution_count": 2,
   "metadata": {},
   "outputs": [],
   "source": [
    "graph = ob.read_obo('https://raw.githubusercontent.com/obophenotype/cell-ontology/master/cl-basic.obo')"
   ]
  },
  {
   "cell_type": "code",
   "execution_count": 13,
   "metadata": {},
   "outputs": [
    {
     "name": "stdout",
     "output_type": "stream",
     "text": [
      "CPU times: user 4 µs, sys: 4 µs, total: 8 µs\n",
      "Wall time: 5.01 µs\n",
      "('2209 nodes in graph', '1060 category terms', '2208 label terms')\n"
     ]
    }
   ],
   "source": [
    "%time \n",
    "label_terms = [node['name'] for # use 'name' attribute\n",
    "               idx, node in graph.nodes(data=True) \n",
    "              if len(nx.descendants(graph, idx)) > 0]  # only suggest terms with at least 1 parent as label names (i.e., exclude the root)\n",
    "\n",
    "# confusingly, `ancestors` are the node's children while `descendants` are the node's parent(s)\n",
    "\n",
    "category_terms = [ node['name'] for # use 'name' attribute\n",
    "                  idx, node in graph.nodes(data=True)  \n",
    "                  if len(nx.ancestors(graph, idx)) > 0] # only suggest terms with at least 1 child as category names\n",
    "\n",
    "print(('%d nodes in graph'%len(graph), '%d category terms'%len(category_terms), '%d label terms'%len(label_terms)))"
   ]
  },
  {
   "cell_type": "code",
   "execution_count": null,
   "metadata": {},
   "outputs": [],
   "source": []
  }
 ],
 "metadata": {
  "kernelspec": {
   "display_name": "Python 3",
   "language": "python",
   "name": "python3"
  },
  "language_info": {
   "codemirror_mode": {
    "name": "ipython",
    "version": 3
   },
   "file_extension": ".py",
   "mimetype": "text/x-python",
   "name": "python",
   "nbconvert_exporter": "python",
   "pygments_lexer": "ipython3",
   "version": "3.7.1"
  }
 },
 "nbformat": 4,
 "nbformat_minor": 2
}
