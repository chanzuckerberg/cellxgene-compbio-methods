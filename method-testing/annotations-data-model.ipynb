{
 "cells": [
  {
   "cell_type": "code",
   "execution_count": 1,
   "metadata": {},
   "outputs": [],
   "source": [
    "import pandas as pd\n",
    "import scanpy as sc\n",
    "import random\n",
    "from copy import deepcopy"
   ]
  },
  {
   "cell_type": "markdown",
   "metadata": {},
   "source": [
    "## Initialize: read in data, create demo annotation"
   ]
  },
  {
   "cell_type": "code",
   "execution_count": 2,
   "metadata": {},
   "outputs": [],
   "source": [
    "adata_unique = sc.read('../data/pbmc3k.h5ad')\n",
    "adata_unique.obs_names_make_unique()"
   ]
  },
  {
   "cell_type": "code",
   "execution_count": 3,
   "metadata": {},
   "outputs": [
    {
     "name": "stdout",
     "output_type": "stream",
     "text": [
      "index\n",
      "AAACATACAACCAC-1     bear\n",
      "AAACATTGAGCTAC-1         \n",
      "AAACATTGATCAGC-1    oh my\n",
      "AAACCGTGCTTCCG-1         \n",
      "AAACCGTGTATGCG-1     bear\n",
      "AAACGCACTGGTAC-1    tiger\n",
      "AAACGCTGACCAGT-1     bear\n",
      "AAACGCTGGTTCTT-1    oh my\n",
      "AAACGCTGTAGCCA-1     bear\n",
      "AAACGCTGTTTCTG-1     bear\n",
      "Name: mylabel, dtype: object\n"
     ]
    }
   ],
   "source": [
    "def generate_demo_annotation(adata):\n",
    "    demo_vals = ['lion', 'tiger', 'bear', 'oh my', ''] ## generate random demo annotation values\n",
    "    demo_annotation = pd.Series([random.choice(demo_vals) for cell in adata.obs.index.values], \n",
    "                                index = adata.obs.index,\n",
    "                                name='mylabel')\n",
    "\n",
    "    print(demo_annotation.head(10)) ## print demo annotation\n",
    "    assert(list(demo_annotation.index) == list(adata.obs.index))\n",
    "    return demo_annotation\n",
    "\n",
    "demo_unique_annotation = generate_demo_annotation(adata_unique)"
   ]
  },
  {
   "cell_type": "markdown",
   "metadata": {},
   "source": [
    "## Sanity check annotation write and read"
   ]
  },
  {
   "cell_type": "code",
   "execution_count": 4,
   "metadata": {},
   "outputs": [
    {
     "name": "stdout",
     "output_type": "stream",
     "text": [
      "# Annotations generated on $DATE:$TIME using cellxgene version $VERSION\r\n",
      "# Input data file was $NAME.h5ad, which was last modified on $DATE:$TIME\r\n",
      "index,mylabel\r\n",
      "AAACATACAACCAC-1,bear\r\n",
      "AAACATTGAGCTAC-1,\r\n",
      "AAACATTGATCAGC-1,oh my\r\n",
      "AAACCGTGCTTCCG-1,\r\n",
      "AAACCGTGTATGCG-1,bear\r\n",
      "AAACGCACTGGTAC-1,tiger\r\n",
      "AAACGCTGACCAGT-1,bear\r\n"
     ]
    }
   ],
   "source": [
    "def write_annotation(series, path):\n",
    "    ofile = open(path, 'w') ## write demo data to file, add a provenance comment to header\n",
    "    provenance_comment = '# Annotations generated on $DATE:$TIME using cellxgene version $VERSION\\n# Input data file was $NAME.h5ad, which was last modified on $DATE:$TIME\\n'\n",
    "    ofile.write(provenance_comment)\n",
    "\n",
    "    series.to_csv(ofile, sep=',', na_rep='', header=True, index=True, index_label='index')\n",
    "    !head $path ## sanity check the output    \n",
    "    \n",
    "write_annotation(demo_unique_annotation, 'demo_unique_annotation.csv')"
   ]
  },
  {
   "cell_type": "code",
   "execution_count": 5,
   "metadata": {},
   "outputs": [
    {
     "name": "stdout",
     "output_type": "stream",
     "text": [
      "                 mylabel\n",
      "index                   \n",
      "AAACATACAACCAC-1    bear\n",
      "AAACATTGAGCTAC-1     NaN\n",
      "AAACATTGATCAGC-1   oh my\n",
      "AAACCGTGCTTCCG-1     NaN\n",
      "AAACCGTGTATGCG-1    bear\n"
     ]
    }
   ],
   "source": [
    "def read_annotation(path):\n",
    "    annotation = pd.read_csv(path, \n",
    "                             comment='#', \n",
    "                             dtype='category', \n",
    "                             index_col=0)\n",
    "    print(annotation.head())\n",
    "    return annotation\n",
    "    \n",
    "demo_unique_annotation = read_annotation('demo_unique_annotation.csv')"
   ]
  },
  {
   "cell_type": "markdown",
   "metadata": {},
   "source": [
    "## Test drive attaching new column to existing metadata"
   ]
  },
  {
   "cell_type": "code",
   "execution_count": 14,
   "metadata": {},
   "outputs": [
    {
     "name": "stdout",
     "output_type": "stream",
     "text": [
      "                  n_genes_by_counts  log1p_n_genes_by_counts  total_counts  \\\n",
      "index                                                                        \n",
      "AAACATACAACCAC-1                781                 6.661855        2421.0   \n",
      "AAACATTGAGCTAC-1               1352                 7.210080        4903.0   \n",
      "AAACATTGATCAGC-1               1131                 7.031741        3149.0   \n",
      "AAACCGTGCTTCCG-1                960                 6.867974        2639.0   \n",
      "AAACCGTGTATGCG-1                522                 6.259581         981.0   \n",
      "\n",
      "                  log1p_total_counts  pct_counts_in_top_50_genes  \\\n",
      "index                                                              \n",
      "AAACATACAACCAC-1            7.792349                   47.748864   \n",
      "AAACATTGAGCTAC-1            8.497807                   45.502753   \n",
      "AAACATTGATCAGC-1            8.055158                   41.314703   \n",
      "AAACCGTGCTTCCG-1            7.878534                   39.029936   \n",
      "AAACCGTGTATGCG-1            6.889591                   44.852192   \n",
      "\n",
      "                  pct_counts_in_top_100_genes  pct_counts_in_top_200_genes  \\\n",
      "index                                                                        \n",
      "AAACATACAACCAC-1                    63.279637                    74.969021   \n",
      "AAACATTGAGCTAC-1                    61.023863                    71.813176   \n",
      "AAACATTGATCAGC-1                    53.794856                    65.449349   \n",
      "AAACCGTGCTTCCG-1                    52.898825                    66.691929   \n",
      "AAACCGTGTATGCG-1                    55.657492                    67.176351   \n",
      "\n",
      "                  pct_counts_in_top_500_genes  n_genes  percent_mito  \\\n",
      "index                                                                  \n",
      "AAACATACAACCAC-1                    88.393226      781      0.030178   \n",
      "AAACATTGAGCTAC-1                    82.622884     1352      0.037936   \n",
      "AAACATTGATCAGC-1                    79.961893     1131      0.008897   \n",
      "AAACCGTGCTTCCG-1                    82.569155      960      0.017431   \n",
      "AAACCGTGTATGCG-1                    97.757390      522      0.012245   \n",
      "\n",
      "                  n_counts louvain leiden mylabel  \n",
      "index                                              \n",
      "AAACATACAACCAC-1    2419.0       0      0    bear  \n",
      "AAACATTGAGCTAC-1    4903.0       2      2     NaN  \n",
      "AAACATTGATCAGC-1    3147.0       0      0   oh my  \n",
      "AAACCGTGCTTCCG-1    2639.0       1      1     NaN  \n",
      "AAACCGTGTATGCG-1     980.0       4      4    bear  \n"
     ]
    }
   ],
   "source": [
    "def attach_annotation(df, adata):\n",
    "#     assert(list(adata.obs.index.values)==list(df.index.values))\n",
    "#     assert(adata.obs.shape[0] == df.shape[0])\n",
    "    for label, anno in df.iteritems(): # can also be done with df.join()\n",
    "        adata.obs[label] = anno\n",
    "    print(adata.obs.head())\n",
    "\n",
    "attach_annotation(demo_unique_annotation, adata_unique)"
   ]
  },
  {
   "cell_type": "markdown",
   "metadata": {},
   "source": [
    "## Rinse, repeat with a nonunique index"
   ]
  },
  {
   "cell_type": "code",
   "execution_count": 7,
   "metadata": {},
   "outputs": [
    {
     "name": "stderr",
     "output_type": "stream",
     "text": [
      "Observation names are not unique. To make them unique, call `.obs_names_make_unique`.\n"
     ]
    }
   ],
   "source": [
    "nonunique_adata = sc.read('../data/pbmc3k.h5ad')\n",
    "name_choices = nonunique_adata.obs_names[:10]\n",
    "\n",
    "nonunique_adata.obs_names = [random.choice(name_choices) for s in nonunique_adata.obs_names] ## make the index nonunique\n",
    "assert(len(pd.unique(nonunique_adata.obs_names)) != len(nonunique_adata.obs_names))"
   ]
  },
  {
   "cell_type": "code",
   "execution_count": 11,
   "metadata": {},
   "outputs": [
    {
     "name": "stdout",
     "output_type": "stream",
     "text": [
      "generated this annotation:\n",
      "AAACCGTGCTTCCG-1         \n",
      "AAACGCTGTAGCCA-1    oh my\n",
      "AAACGCTGGTTCTT-1    oh my\n",
      "AAACGCTGGTTCTT-1     bear\n",
      "AAACGCTGTAGCCA-1     bear\n",
      "AAACATTGAGCTAC-1     bear\n",
      "AAACGCTGACCAGT-1     bear\n",
      "AAACGCTGGTTCTT-1     bear\n",
      "AAACATACAACCAC-1    tiger\n",
      "AAACCGTGTATGCG-1    oh my\n",
      "Name: mylabel, dtype: object\n",
      "\n",
      "\n",
      "writing out annotation:\n",
      "# Annotations generated on $DATE:$TIME using cellxgene version $VERSION\n",
      "# Input data file was $NAME.h5ad, which was last modified on $DATE:$TIME\n",
      "index,mylabel\n",
      "AAACCGTGCTTCCG-1,\n",
      "AAACGCTGTAGCCA-1,oh my\n",
      "AAACGCTGGTTCTT-1,oh my\n",
      "AAACGCTGGTTCTT-1,bear\n",
      "AAACGCTGTAGCCA-1,bear\n",
      "AAACATTGAGCTAC-1,bear\n",
      "AAACGCTGACCAGT-1,bear\n",
      "\n",
      "\n",
      "read annotation back in as:\n",
      "                 mylabel\n",
      "index                   \n",
      "AAACCGTGCTTCCG-1     NaN\n",
      "AAACGCTGTAGCCA-1   oh my\n",
      "AAACGCTGGTTCTT-1   oh my\n",
      "AAACGCTGGTTCTT-1    bear\n",
      "AAACGCTGTAGCCA-1    bear\n",
      "\n",
      "\n",
      "attaching re-read annotation to adata:\n",
      "                  n_genes_by_counts  log1p_n_genes_by_counts  total_counts  \\\n",
      "AAACCGTGCTTCCG-1                781                 6.661855        2421.0   \n",
      "AAACGCTGTAGCCA-1               1352                 7.210080        4903.0   \n",
      "AAACGCTGGTTCTT-1               1131                 7.031741        3149.0   \n",
      "AAACGCTGGTTCTT-1                960                 6.867974        2639.0   \n",
      "AAACGCTGTAGCCA-1                522                 6.259581         981.0   \n",
      "\n",
      "                  log1p_total_counts  pct_counts_in_top_50_genes  \\\n",
      "AAACCGTGCTTCCG-1            7.792349                   47.748864   \n",
      "AAACGCTGTAGCCA-1            8.497807                   45.502753   \n",
      "AAACGCTGGTTCTT-1            8.055158                   41.314703   \n",
      "AAACGCTGGTTCTT-1            7.878534                   39.029936   \n",
      "AAACGCTGTAGCCA-1            6.889591                   44.852192   \n",
      "\n",
      "                  pct_counts_in_top_100_genes  pct_counts_in_top_200_genes  \\\n",
      "AAACCGTGCTTCCG-1                    63.279637                    74.969021   \n",
      "AAACGCTGTAGCCA-1                    61.023863                    71.813176   \n",
      "AAACGCTGGTTCTT-1                    53.794856                    65.449349   \n",
      "AAACGCTGGTTCTT-1                    52.898825                    66.691929   \n",
      "AAACGCTGTAGCCA-1                    55.657492                    67.176351   \n",
      "\n",
      "                  pct_counts_in_top_500_genes  n_genes  percent_mito  \\\n",
      "AAACCGTGCTTCCG-1                    88.393226      781      0.030178   \n",
      "AAACGCTGTAGCCA-1                    82.622884     1352      0.037936   \n",
      "AAACGCTGGTTCTT-1                    79.961893     1131      0.008897   \n",
      "AAACGCTGGTTCTT-1                    82.569155      960      0.017431   \n",
      "AAACGCTGTAGCCA-1                    97.757390      522      0.012245   \n",
      "\n",
      "                  n_counts louvain leiden mylabel  \n",
      "AAACCGTGCTTCCG-1    2419.0       0      0     NaN  \n",
      "AAACGCTGTAGCCA-1    4903.0       2      2   oh my  \n",
      "AAACGCTGGTTCTT-1    3147.0       0      0   oh my  \n",
      "AAACGCTGGTTCTT-1    2639.0       1      1    bear  \n",
      "AAACGCTGTAGCCA-1     980.0       4      4    bear  \n"
     ]
    }
   ],
   "source": [
    "print('generated this annotation:')\n",
    "nonunique_annotation = generate_demo_annotation(nonunique_adata)\n",
    "print('\\n\\nwriting out annotation:')\n",
    "write_annotation(nonunique_annotation, 'nonunique_demo.csv')\n",
    "print('\\n\\nread annotation back in as:')\n",
    "nonunique_annotation = read_annotation('nonunique_demo.csv')\n",
    "print('\\n\\nattaching re-read annotation to adata:')\n",
    "attach_annotation(nonunique_annotation, nonunique_adata)"
   ]
  },
  {
   "cell_type": "markdown",
   "metadata": {},
   "source": [
    "## what happens if a nonunique index gets shuffled? (simulating mismatched csv + h5ad)"
   ]
  },
  {
   "cell_type": "code",
   "execution_count": 15,
   "metadata": {},
   "outputs": [
    {
     "ename": "ValueError",
     "evalue": "cannot reindex with a non-unique indexer",
     "output_type": "error",
     "traceback": [
      "\u001b[0;31m---------------------------------------------------------------------------\u001b[0m",
      "\u001b[0;31mValueError\u001b[0m                                Traceback (most recent call last)",
      "\u001b[0;32m<ipython-input-15-4b2517884e4e>\u001b[0m in \u001b[0;36m<module>\u001b[0;34m\u001b[0m\n\u001b[1;32m      1\u001b[0m \u001b[0mshuffled_nonunique\u001b[0m \u001b[0;34m=\u001b[0m \u001b[0mnonunique_annotation\u001b[0m\u001b[0;34m.\u001b[0m\u001b[0msort_values\u001b[0m\u001b[0;34m(\u001b[0m\u001b[0mby\u001b[0m\u001b[0;34m=\u001b[0m\u001b[0;34m'mylabel'\u001b[0m\u001b[0;34m)\u001b[0m\u001b[0;34m\u001b[0m\u001b[0;34m\u001b[0m\u001b[0m\n\u001b[0;32m----> 2\u001b[0;31m \u001b[0mattach_annotation\u001b[0m\u001b[0;34m(\u001b[0m\u001b[0mshuffled_nonunique\u001b[0m\u001b[0;34m,\u001b[0m \u001b[0mnonunique_adata\u001b[0m\u001b[0;34m)\u001b[0m\u001b[0;34m\u001b[0m\u001b[0;34m\u001b[0m\u001b[0m\n\u001b[0m",
      "\u001b[0;32m<ipython-input-14-ce870d691a5f>\u001b[0m in \u001b[0;36mattach_annotation\u001b[0;34m(df, adata)\u001b[0m\n\u001b[1;32m      3\u001b[0m \u001b[0;31m#     assert(adata.obs.shape[0] == df.shape[0])\u001b[0m\u001b[0;34m\u001b[0m\u001b[0;34m\u001b[0m\u001b[0;34m\u001b[0m\u001b[0m\n\u001b[1;32m      4\u001b[0m     \u001b[0;32mfor\u001b[0m \u001b[0mlabel\u001b[0m\u001b[0;34m,\u001b[0m \u001b[0manno\u001b[0m \u001b[0;32min\u001b[0m \u001b[0mdf\u001b[0m\u001b[0;34m.\u001b[0m\u001b[0miteritems\u001b[0m\u001b[0;34m(\u001b[0m\u001b[0;34m)\u001b[0m\u001b[0;34m:\u001b[0m \u001b[0;31m# can also be done with df.join()\u001b[0m\u001b[0;34m\u001b[0m\u001b[0;34m\u001b[0m\u001b[0m\n\u001b[0;32m----> 5\u001b[0;31m         \u001b[0madata\u001b[0m\u001b[0;34m.\u001b[0m\u001b[0mobs\u001b[0m\u001b[0;34m[\u001b[0m\u001b[0mlabel\u001b[0m\u001b[0;34m]\u001b[0m \u001b[0;34m=\u001b[0m \u001b[0manno\u001b[0m\u001b[0;34m\u001b[0m\u001b[0;34m\u001b[0m\u001b[0m\n\u001b[0m\u001b[1;32m      6\u001b[0m     \u001b[0mprint\u001b[0m\u001b[0;34m(\u001b[0m\u001b[0madata\u001b[0m\u001b[0;34m.\u001b[0m\u001b[0mobs\u001b[0m\u001b[0;34m.\u001b[0m\u001b[0mhead\u001b[0m\u001b[0;34m(\u001b[0m\u001b[0;34m)\u001b[0m\u001b[0;34m)\u001b[0m\u001b[0;34m\u001b[0m\u001b[0;34m\u001b[0m\u001b[0m\n\u001b[1;32m      7\u001b[0m \u001b[0;34m\u001b[0m\u001b[0m\n",
      "\u001b[0;32m~/Library/Python/3.7/lib/python/site-packages/pandas/core/frame.py\u001b[0m in \u001b[0;36m__setitem__\u001b[0;34m(self, key, value)\u001b[0m\n\u001b[1;32m   3465\u001b[0m         \u001b[0;32melse\u001b[0m\u001b[0;34m:\u001b[0m\u001b[0;34m\u001b[0m\u001b[0;34m\u001b[0m\u001b[0m\n\u001b[1;32m   3466\u001b[0m             \u001b[0;31m# set column\u001b[0m\u001b[0;34m\u001b[0m\u001b[0;34m\u001b[0m\u001b[0;34m\u001b[0m\u001b[0m\n\u001b[0;32m-> 3467\u001b[0;31m             \u001b[0mself\u001b[0m\u001b[0;34m.\u001b[0m\u001b[0m_set_item\u001b[0m\u001b[0;34m(\u001b[0m\u001b[0mkey\u001b[0m\u001b[0;34m,\u001b[0m \u001b[0mvalue\u001b[0m\u001b[0;34m)\u001b[0m\u001b[0;34m\u001b[0m\u001b[0;34m\u001b[0m\u001b[0m\n\u001b[0m\u001b[1;32m   3468\u001b[0m \u001b[0;34m\u001b[0m\u001b[0m\n\u001b[1;32m   3469\u001b[0m     \u001b[0;32mdef\u001b[0m \u001b[0m_setitem_slice\u001b[0m\u001b[0;34m(\u001b[0m\u001b[0mself\u001b[0m\u001b[0;34m,\u001b[0m \u001b[0mkey\u001b[0m\u001b[0;34m,\u001b[0m \u001b[0mvalue\u001b[0m\u001b[0;34m)\u001b[0m\u001b[0;34m:\u001b[0m\u001b[0;34m\u001b[0m\u001b[0;34m\u001b[0m\u001b[0m\n",
      "\u001b[0;32m~/Library/Python/3.7/lib/python/site-packages/pandas/core/frame.py\u001b[0m in \u001b[0;36m_set_item\u001b[0;34m(self, key, value)\u001b[0m\n\u001b[1;32m   3542\u001b[0m \u001b[0;34m\u001b[0m\u001b[0m\n\u001b[1;32m   3543\u001b[0m         \u001b[0mself\u001b[0m\u001b[0;34m.\u001b[0m\u001b[0m_ensure_valid_index\u001b[0m\u001b[0;34m(\u001b[0m\u001b[0mvalue\u001b[0m\u001b[0;34m)\u001b[0m\u001b[0;34m\u001b[0m\u001b[0;34m\u001b[0m\u001b[0m\n\u001b[0;32m-> 3544\u001b[0;31m         \u001b[0mvalue\u001b[0m \u001b[0;34m=\u001b[0m \u001b[0mself\u001b[0m\u001b[0;34m.\u001b[0m\u001b[0m_sanitize_column\u001b[0m\u001b[0;34m(\u001b[0m\u001b[0mkey\u001b[0m\u001b[0;34m,\u001b[0m \u001b[0mvalue\u001b[0m\u001b[0;34m)\u001b[0m\u001b[0;34m\u001b[0m\u001b[0;34m\u001b[0m\u001b[0m\n\u001b[0m\u001b[1;32m   3545\u001b[0m         \u001b[0mNDFrame\u001b[0m\u001b[0;34m.\u001b[0m\u001b[0m_set_item\u001b[0m\u001b[0;34m(\u001b[0m\u001b[0mself\u001b[0m\u001b[0;34m,\u001b[0m \u001b[0mkey\u001b[0m\u001b[0;34m,\u001b[0m \u001b[0mvalue\u001b[0m\u001b[0;34m)\u001b[0m\u001b[0;34m\u001b[0m\u001b[0;34m\u001b[0m\u001b[0m\n\u001b[1;32m   3546\u001b[0m \u001b[0;34m\u001b[0m\u001b[0m\n",
      "\u001b[0;32m~/Library/Python/3.7/lib/python/site-packages/pandas/core/frame.py\u001b[0m in \u001b[0;36m_sanitize_column\u001b[0;34m(self, key, value, broadcast)\u001b[0m\n\u001b[1;32m   3704\u001b[0m \u001b[0;34m\u001b[0m\u001b[0m\n\u001b[1;32m   3705\u001b[0m         \u001b[0;32mif\u001b[0m \u001b[0misinstance\u001b[0m\u001b[0;34m(\u001b[0m\u001b[0mvalue\u001b[0m\u001b[0;34m,\u001b[0m \u001b[0mSeries\u001b[0m\u001b[0;34m)\u001b[0m\u001b[0;34m:\u001b[0m\u001b[0;34m\u001b[0m\u001b[0;34m\u001b[0m\u001b[0m\n\u001b[0;32m-> 3706\u001b[0;31m             \u001b[0mvalue\u001b[0m \u001b[0;34m=\u001b[0m \u001b[0mreindexer\u001b[0m\u001b[0;34m(\u001b[0m\u001b[0mvalue\u001b[0m\u001b[0;34m)\u001b[0m\u001b[0;34m\u001b[0m\u001b[0;34m\u001b[0m\u001b[0m\n\u001b[0m\u001b[1;32m   3707\u001b[0m \u001b[0;34m\u001b[0m\u001b[0m\n\u001b[1;32m   3708\u001b[0m         \u001b[0;32melif\u001b[0m \u001b[0misinstance\u001b[0m\u001b[0;34m(\u001b[0m\u001b[0mvalue\u001b[0m\u001b[0;34m,\u001b[0m \u001b[0mDataFrame\u001b[0m\u001b[0;34m)\u001b[0m\u001b[0;34m:\u001b[0m\u001b[0;34m\u001b[0m\u001b[0;34m\u001b[0m\u001b[0m\n",
      "\u001b[0;32m~/Library/Python/3.7/lib/python/site-packages/pandas/core/frame.py\u001b[0m in \u001b[0;36mreindexer\u001b[0;34m(value)\u001b[0m\n\u001b[1;32m   3695\u001b[0m                     \u001b[0;31m# duplicate axis\u001b[0m\u001b[0;34m\u001b[0m\u001b[0;34m\u001b[0m\u001b[0;34m\u001b[0m\u001b[0m\n\u001b[1;32m   3696\u001b[0m                     \u001b[0;32mif\u001b[0m \u001b[0;32mnot\u001b[0m \u001b[0mvalue\u001b[0m\u001b[0;34m.\u001b[0m\u001b[0mindex\u001b[0m\u001b[0;34m.\u001b[0m\u001b[0mis_unique\u001b[0m\u001b[0;34m:\u001b[0m\u001b[0;34m\u001b[0m\u001b[0;34m\u001b[0m\u001b[0m\n\u001b[0;32m-> 3697\u001b[0;31m                         \u001b[0;32mraise\u001b[0m \u001b[0me\u001b[0m\u001b[0;34m\u001b[0m\u001b[0;34m\u001b[0m\u001b[0m\n\u001b[0m\u001b[1;32m   3698\u001b[0m \u001b[0;34m\u001b[0m\u001b[0m\n\u001b[1;32m   3699\u001b[0m                     \u001b[0;31m# other\u001b[0m\u001b[0;34m\u001b[0m\u001b[0;34m\u001b[0m\u001b[0;34m\u001b[0m\u001b[0m\n",
      "\u001b[0;32m~/Library/Python/3.7/lib/python/site-packages/pandas/core/frame.py\u001b[0m in \u001b[0;36mreindexer\u001b[0;34m(value)\u001b[0m\n\u001b[1;32m   3690\u001b[0m                 \u001b[0;31m# GH 4107\u001b[0m\u001b[0;34m\u001b[0m\u001b[0;34m\u001b[0m\u001b[0;34m\u001b[0m\u001b[0m\n\u001b[1;32m   3691\u001b[0m                 \u001b[0;32mtry\u001b[0m\u001b[0;34m:\u001b[0m\u001b[0;34m\u001b[0m\u001b[0;34m\u001b[0m\u001b[0m\n\u001b[0;32m-> 3692\u001b[0;31m                     \u001b[0mvalue\u001b[0m \u001b[0;34m=\u001b[0m \u001b[0mvalue\u001b[0m\u001b[0;34m.\u001b[0m\u001b[0mreindex\u001b[0m\u001b[0;34m(\u001b[0m\u001b[0mself\u001b[0m\u001b[0;34m.\u001b[0m\u001b[0mindex\u001b[0m\u001b[0;34m)\u001b[0m\u001b[0;34m.\u001b[0m\u001b[0m_values\u001b[0m\u001b[0;34m\u001b[0m\u001b[0;34m\u001b[0m\u001b[0m\n\u001b[0m\u001b[1;32m   3693\u001b[0m                 \u001b[0;32mexcept\u001b[0m \u001b[0mException\u001b[0m \u001b[0;32mas\u001b[0m \u001b[0me\u001b[0m\u001b[0;34m:\u001b[0m\u001b[0;34m\u001b[0m\u001b[0;34m\u001b[0m\u001b[0m\n\u001b[1;32m   3694\u001b[0m \u001b[0;34m\u001b[0m\u001b[0m\n",
      "\u001b[0;32m~/Library/Python/3.7/lib/python/site-packages/pandas/core/series.py\u001b[0m in \u001b[0;36mreindex\u001b[0;34m(self, index, **kwargs)\u001b[0m\n\u001b[1;32m   4214\u001b[0m     \u001b[0;34m@\u001b[0m\u001b[0mAppender\u001b[0m\u001b[0;34m(\u001b[0m\u001b[0mgeneric\u001b[0m\u001b[0;34m.\u001b[0m\u001b[0mNDFrame\u001b[0m\u001b[0;34m.\u001b[0m\u001b[0mreindex\u001b[0m\u001b[0;34m.\u001b[0m\u001b[0m__doc__\u001b[0m\u001b[0;34m)\u001b[0m\u001b[0;34m\u001b[0m\u001b[0;34m\u001b[0m\u001b[0m\n\u001b[1;32m   4215\u001b[0m     \u001b[0;32mdef\u001b[0m \u001b[0mreindex\u001b[0m\u001b[0;34m(\u001b[0m\u001b[0mself\u001b[0m\u001b[0;34m,\u001b[0m \u001b[0mindex\u001b[0m\u001b[0;34m=\u001b[0m\u001b[0;32mNone\u001b[0m\u001b[0;34m,\u001b[0m \u001b[0;34m**\u001b[0m\u001b[0mkwargs\u001b[0m\u001b[0;34m)\u001b[0m\u001b[0;34m:\u001b[0m\u001b[0;34m\u001b[0m\u001b[0;34m\u001b[0m\u001b[0m\n\u001b[0;32m-> 4216\u001b[0;31m         \u001b[0;32mreturn\u001b[0m \u001b[0msuper\u001b[0m\u001b[0;34m(\u001b[0m\u001b[0;34m)\u001b[0m\u001b[0;34m.\u001b[0m\u001b[0mreindex\u001b[0m\u001b[0;34m(\u001b[0m\u001b[0mindex\u001b[0m\u001b[0;34m=\u001b[0m\u001b[0mindex\u001b[0m\u001b[0;34m,\u001b[0m \u001b[0;34m**\u001b[0m\u001b[0mkwargs\u001b[0m\u001b[0;34m)\u001b[0m\u001b[0;34m\u001b[0m\u001b[0;34m\u001b[0m\u001b[0m\n\u001b[0m\u001b[1;32m   4217\u001b[0m \u001b[0;34m\u001b[0m\u001b[0m\n\u001b[1;32m   4218\u001b[0m     def drop(\n",
      "\u001b[0;32m~/Library/Python/3.7/lib/python/site-packages/pandas/core/generic.py\u001b[0m in \u001b[0;36mreindex\u001b[0;34m(self, *args, **kwargs)\u001b[0m\n\u001b[1;32m   4513\u001b[0m         \u001b[0;31m# perform the reindex on the axes\u001b[0m\u001b[0;34m\u001b[0m\u001b[0;34m\u001b[0m\u001b[0;34m\u001b[0m\u001b[0m\n\u001b[1;32m   4514\u001b[0m         return self._reindex_axes(\n\u001b[0;32m-> 4515\u001b[0;31m             \u001b[0maxes\u001b[0m\u001b[0;34m,\u001b[0m \u001b[0mlevel\u001b[0m\u001b[0;34m,\u001b[0m \u001b[0mlimit\u001b[0m\u001b[0;34m,\u001b[0m \u001b[0mtolerance\u001b[0m\u001b[0;34m,\u001b[0m \u001b[0mmethod\u001b[0m\u001b[0;34m,\u001b[0m \u001b[0mfill_value\u001b[0m\u001b[0;34m,\u001b[0m \u001b[0mcopy\u001b[0m\u001b[0;34m\u001b[0m\u001b[0;34m\u001b[0m\u001b[0m\n\u001b[0m\u001b[1;32m   4516\u001b[0m         ).__finalize__(self)\n\u001b[1;32m   4517\u001b[0m \u001b[0;34m\u001b[0m\u001b[0m\n",
      "\u001b[0;32m~/Library/Python/3.7/lib/python/site-packages/pandas/core/generic.py\u001b[0m in \u001b[0;36m_reindex_axes\u001b[0;34m(self, axes, level, limit, tolerance, method, fill_value, copy)\u001b[0m\n\u001b[1;32m   4526\u001b[0m             \u001b[0max\u001b[0m \u001b[0;34m=\u001b[0m \u001b[0mself\u001b[0m\u001b[0;34m.\u001b[0m\u001b[0m_get_axis\u001b[0m\u001b[0;34m(\u001b[0m\u001b[0ma\u001b[0m\u001b[0;34m)\u001b[0m\u001b[0;34m\u001b[0m\u001b[0;34m\u001b[0m\u001b[0m\n\u001b[1;32m   4527\u001b[0m             new_index, indexer = ax.reindex(\n\u001b[0;32m-> 4528\u001b[0;31m                 \u001b[0mlabels\u001b[0m\u001b[0;34m,\u001b[0m \u001b[0mlevel\u001b[0m\u001b[0;34m=\u001b[0m\u001b[0mlevel\u001b[0m\u001b[0;34m,\u001b[0m \u001b[0mlimit\u001b[0m\u001b[0;34m=\u001b[0m\u001b[0mlimit\u001b[0m\u001b[0;34m,\u001b[0m \u001b[0mtolerance\u001b[0m\u001b[0;34m=\u001b[0m\u001b[0mtolerance\u001b[0m\u001b[0;34m,\u001b[0m \u001b[0mmethod\u001b[0m\u001b[0;34m=\u001b[0m\u001b[0mmethod\u001b[0m\u001b[0;34m\u001b[0m\u001b[0;34m\u001b[0m\u001b[0m\n\u001b[0m\u001b[1;32m   4529\u001b[0m             )\n\u001b[1;32m   4530\u001b[0m \u001b[0;34m\u001b[0m\u001b[0m\n",
      "\u001b[0;32m~/Library/Python/3.7/lib/python/site-packages/pandas/core/indexes/category.py\u001b[0m in \u001b[0;36mreindex\u001b[0;34m(self, target, method, level, limit, tolerance)\u001b[0m\n\u001b[1;32m    600\u001b[0m         \u001b[0;32melse\u001b[0m\u001b[0;34m:\u001b[0m\u001b[0;34m\u001b[0m\u001b[0;34m\u001b[0m\u001b[0m\n\u001b[1;32m    601\u001b[0m             \u001b[0;32mif\u001b[0m \u001b[0;32mnot\u001b[0m \u001b[0mtarget\u001b[0m\u001b[0;34m.\u001b[0m\u001b[0mis_unique\u001b[0m\u001b[0;34m:\u001b[0m\u001b[0;34m\u001b[0m\u001b[0;34m\u001b[0m\u001b[0m\n\u001b[0;32m--> 602\u001b[0;31m                 \u001b[0;32mraise\u001b[0m \u001b[0mValueError\u001b[0m\u001b[0;34m(\u001b[0m\u001b[0;34m\"cannot reindex with a non-unique indexer\"\u001b[0m\u001b[0;34m)\u001b[0m\u001b[0;34m\u001b[0m\u001b[0;34m\u001b[0m\u001b[0m\n\u001b[0m\u001b[1;32m    603\u001b[0m \u001b[0;34m\u001b[0m\u001b[0m\n\u001b[1;32m    604\u001b[0m             \u001b[0mindexer\u001b[0m\u001b[0;34m,\u001b[0m \u001b[0mmissing\u001b[0m \u001b[0;34m=\u001b[0m \u001b[0mself\u001b[0m\u001b[0;34m.\u001b[0m\u001b[0mget_indexer_non_unique\u001b[0m\u001b[0;34m(\u001b[0m\u001b[0mnp\u001b[0m\u001b[0;34m.\u001b[0m\u001b[0marray\u001b[0m\u001b[0;34m(\u001b[0m\u001b[0mtarget\u001b[0m\u001b[0;34m)\u001b[0m\u001b[0;34m)\u001b[0m\u001b[0;34m\u001b[0m\u001b[0;34m\u001b[0m\u001b[0m\n",
      "\u001b[0;31mValueError\u001b[0m: cannot reindex with a non-unique indexer"
     ]
    }
   ],
   "source": [
    "shuffled_nonunique = nonunique_annotation.sort_values(by='mylabel')\n",
    "attach_annotation(shuffled_nonunique, nonunique_adata)"
   ]
  },
  {
   "cell_type": "code",
   "execution_count": null,
   "metadata": {},
   "outputs": [],
   "source": []
  }
 ],
 "metadata": {
  "kernelspec": {
   "display_name": "Python 3",
   "language": "python",
   "name": "python3"
  },
  "language_info": {
   "codemirror_mode": {
    "name": "ipython",
    "version": 3
   },
   "file_extension": ".py",
   "mimetype": "text/x-python",
   "name": "python",
   "nbconvert_exporter": "python",
   "pygments_lexer": "ipython3",
   "version": "3.7.2"
  }
 },
 "nbformat": 4,
 "nbformat_minor": 2
}
